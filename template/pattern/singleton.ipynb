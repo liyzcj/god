{
 "nbformat": 4,
 "nbformat_minor": 2,
 "metadata": {
  "language_info": {
   "name": "python",
   "codemirror_mode": {
    "name": "ipython",
    "version": 3
   },
   "version": "3.7.6-final"
  },
  "orig_nbformat": 2,
  "file_extension": ".py",
  "mimetype": "text/x-python",
  "name": "python",
  "npconvert_exporter": "python",
  "pygments_lexer": "ipython3",
  "version": 3,
  "kernelspec": {
   "name": "python37664bitenvvirtualenv72fee0f2e4304db4b9f436318898cc50",
   "display_name": "Python 3.7.6 64-bit ('.env': virtualenv)"
  }
 },
 "cells": [
  {
   "cell_type": "markdown",
   "metadata": {},
   "source": [
    "# 单例模式\n",
    "\n",
    "Singleton，即单实例模式，代表一个类仅仅只能拥有一个实例。表现在当 new 一个新的\n",
    "instance 时，如果该类已经有一个实例存在，则返回那一个实例。"
   ]
  },
  {
   "cell_type": "markdown",
   "metadata": {},
   "source": [
    "## 方法一：装饰器\n",
    "\n",
    "优点：\n",
    "\n",
    "* 比采用继承的方式更加直观\n",
    "\n",
    "缺点：\n",
    "\n",
    "* 尽管装饰后的类返回的就是同一个 Object，但是实际上装饰过以后，这个类就已经不是一个类，\n",
    "而是一个函数。"
   ]
  },
  {
   "cell_type": "code",
   "execution_count": 20,
   "metadata": {},
   "outputs": [],
   "source": [
    "def singleton(cls):\n",
    "    instances = {}\n",
    "    def getinstance(*args, **kwargs):\n",
    "        if cls not in instances:\n",
    "            instances[cls] = cls(*args, **kwargs)\n",
    "        return instances[cls]\n",
    "    return getinstance\n",
    "\n",
    "@singleton\n",
    "class MyClass():\n",
    "    pass"
   ]
  },
  {
   "cell_type": "code",
   "execution_count": 22,
   "metadata": {},
   "outputs": [
    {
     "output_type": "execute_result",
     "data": {
      "text/plain": "True"
     },
     "metadata": {},
     "execution_count": 22
    }
   ],
   "source": [
    "m = MyClass()\n",
    "n = MyClass()\n",
    "o = type(n)()\n",
    "\n",
    "m is n and m is not o and n is not o"
   ]
  },
  {
   "cell_type": "markdown",
   "metadata": {},
   "source": [
    "## 方法二：继承基类\n",
    "\n",
    "通过在基类中覆写 `__new__()` 方法，来确保生成单个实例.\n",
    "\n",
    "> 注意在这种方法中，实例虽然每次都是同一个实例，`__init__()` 方法每次都会被调用。\n",
    "\n",
    "优点：\n",
    "\n",
    "* 这个类是一个真实的类，不像装饰器一样\n",
    "\n",
    "缺点：\n",
    "\n",
    "* 多重继承的时候，__new__() 方法可能被重写"
   ]
  },
  {
   "cell_type": "code",
   "execution_count": 23,
   "metadata": {},
   "outputs": [],
   "source": [
    "class Singleton(object):\n",
    "\n",
    "    _instance = None\n",
    "\n",
    "    def __new__(cls, *args, **kwargs):\n",
    "        if not isinstance(cls._instance, cls):\n",
    "            cls._instance = object.__new__(cls)\n",
    "        return cls._instance\n",
    "\n",
    "class MyClass(Singleton):\n",
    "      pass"
   ]
  },
  {
   "cell_type": "code",
   "execution_count": 24,
   "metadata": {},
   "outputs": [
    {
     "output_type": "execute_result",
     "data": {
      "text/plain": "True"
     },
     "metadata": {},
     "execution_count": 24
    }
   ],
   "source": [
    "m = MyClass()\n",
    "n = MyClass()\n",
    "\n",
    "m is n"
   ]
  },
  {
   "cell_type": "markdown",
   "metadata": {},
   "source": [
    "## 方法三：元类\n",
    "\n",
    "优点：\n",
    "\n",
    "* 真正的 class\n",
    "* 继承不会出现问题\n",
    "\n",
    "缺点： 无"
   ]
  },
  {
   "cell_type": "code",
   "execution_count": 25,
   "metadata": {},
   "outputs": [],
   "source": [
    "class Singleton(type):\n",
    "    _instances = {}\n",
    "    def __call__(cls, *args, **kwargs):\n",
    "        if cls not in cls._instances:\n",
    "            cls._instances[cls] = super(Singleton, cls).__call__(*args, **kwargs)\n",
    "        return cls._instances[cls]\n",
    "\n",
    "#Python2\n",
    "class MyClass():\n",
    "    __metaclass__ = Singleton\n",
    "\n",
    "#Python3\n",
    "class MyClass(metaclass=Singleton):\n",
    "    pass"
   ]
  },
  {
   "cell_type": "code",
   "execution_count": 26,
   "metadata": {},
   "outputs": [
    {
     "output_type": "execute_result",
     "data": {
      "text/plain": "True"
     },
     "metadata": {},
     "execution_count": 26
    }
   ],
   "source": [
    "m = MyClass()\n",
    "n = MyClass()\n",
    "\n",
    "m is n"
   ]
  },
  {
   "cell_type": "markdown",
   "metadata": {},
   "source": [
    "上面的代码不会每次调用 `__init__()` 方法，如果每次都要调用 `__init__()` 方法，可以在 `__call__()` 的 IF 语句中添加以下代码：\n",
    "\n",
    "```python\n",
    "else:\n",
    "    cls._instances[cls].__init__(*args, **kwargs)\n",
    "```"
   ]
  },
  {
   "cell_type": "code",
   "execution_count": 27,
   "metadata": {},
   "outputs": [],
   "source": [
    "class Singleton(type):\n",
    "    _instances = {}\n",
    "    def __call__(cls, *args, **kwargs):\n",
    "        if cls not in cls._instances:\n",
    "            cls._instances[cls] = super(Singleton, cls).__call__(*args, **kwargs)\n",
    "        else:\n",
    "            cls._instances[cls].__init__(*args, **kwargs)\n",
    "        return cls._instances[cls]"
   ]
  },
  {
   "cell_type": "code",
   "execution_count": 28,
   "metadata": {},
   "outputs": [
    {
     "output_type": "execute_result",
     "data": {
      "text/plain": "True"
     },
     "metadata": {},
     "execution_count": 28
    }
   ],
   "source": [
    "m = MyClass()\n",
    "n = MyClass()\n",
    "\n",
    "m is n"
   ]
  },
  {
   "cell_type": "markdown",
   "metadata": {},
   "source": [
    "## 方法四：返回类的装饰器\n",
    "\n",
    "优点：\n",
    "\n",
    "* 真正的 Class\n",
    "* 能够被继承\n",
    "\n",
    "缺点：\n",
    "\n",
    "* 可扩展性可能会有问题，因为每个类创建时都会同时创建另一个 Singleton 类。\n",
    "* 在基类中调用 super() 时会出现问题，因为每层继承中间都穿插了一个 Singleton 类。"
   ]
  },
  {
   "cell_type": "code",
   "execution_count": 29,
   "metadata": {},
   "outputs": [],
   "source": [
    "def singleton(cls):\n",
    "    class class_w(cls):\n",
    "        _instance = None\n",
    "        def __new__(cls, *args, **kwargs):\n",
    "            if class_w._instance is None:\n",
    "                class_w._instance = object.__new__(cls)\n",
    "                class_w._instance._sealed = False\n",
    "            return class_w._instance\n",
    "        def __init__(self, *args, **kwargs):\n",
    "            if self._sealed:\n",
    "                return\n",
    "            super(class_w, self).__init__(*args, **kwargs)\n",
    "            self._sealed = True\n",
    "    class_w.__name__ = cls.__name__\n",
    "    return class_w\n",
    "        \n",
    "@singleton\n",
    "class MyClass():\n",
    "    pass"
   ]
  },
  {
   "cell_type": "code",
   "execution_count": 30,
   "metadata": {},
   "outputs": [
    {
     "output_type": "execute_result",
     "data": {
      "text/plain": "True"
     },
     "metadata": {},
     "execution_count": 30
    }
   ],
   "source": [
    "m = MyClass()\n",
    "n = MyClass()\n",
    "\n",
    "m is n"
   ]
  },
  {
   "cell_type": "markdown",
   "metadata": {},
   "source": [
    "## 总结\n",
    "\n",
    "**最好的方法就是方法三，使用 metaclass 可以完美的实现 singleton 模式。**\n",
    "\n",
    "## 参考\n",
    "\n",
    "[Creating a singleton in Python](https://stackoverflow.com/q/6760685/12572033)"
   ]
  }
 ]
}